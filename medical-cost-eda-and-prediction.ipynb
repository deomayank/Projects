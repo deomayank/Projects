{
 "cells": [
  {
   "cell_type": "code",
   "execution_count": 1,
   "id": "6f362e47",
   "metadata": {
    "_cell_guid": "b1076dfc-b9ad-4769-8c92-a6c4dae69d19",
    "_uuid": "8f2839f25d086af736a60e9eeb907d3b93b6e0e5",
    "execution": {
     "iopub.execute_input": "2022-11-04T22:21:22.519915Z",
     "iopub.status.busy": "2022-11-04T22:21:22.519431Z",
     "iopub.status.idle": "2022-11-04T22:21:22.536357Z",
     "shell.execute_reply": "2022-11-04T22:21:22.535682Z"
    },
    "papermill": {
     "duration": 0.027742,
     "end_time": "2022-11-04T22:21:22.538642",
     "exception": false,
     "start_time": "2022-11-04T22:21:22.510900",
     "status": "completed"
    },
    "tags": []
   },
   "outputs": [
    {
     "name": "stdout",
     "output_type": "stream",
     "text": [
      "/kaggle/input/insurance/insurance.csv\n"
     ]
    }
   ],
   "source": [
    "# This Python 3 environment comes with many helpful analytics libraries installed\n",
    "# It is defined by the kaggle/python Docker image: https://github.com/kaggle/docker-python\n",
    "# For example, here's several helpful packages to load\n",
    "\n",
    "import numpy as np # linear algebra\n",
    "import pandas as pd # data processing, CSV file I/O (e.g. pd.read_csv)\n",
    "\n",
    "# Input data files are available in the read-only \"../input/\" directory\n",
    "# For example, running this (by clicking run or pressing Shift+Enter) will list all files under the input directory\n",
    "\n",
    "import os\n",
    "for dirname, _, filenames in os.walk('/kaggle/input'):\n",
    "    for filename in filenames:\n",
    "        print(os.path.join(dirname, filename))\n",
    "\n",
    "# You can write up to 20GB to the current directory (/kaggle/working/) that gets preserved as output when you create a version using \"Save & Run All\" \n",
    "# You can also write temporary files to /kaggle/temp/, but they won't be saved outside of the current session"
   ]
  },
  {
   "cell_type": "markdown",
   "id": "383ed9df",
   "metadata": {
    "papermill": {
     "duration": 0.006322,
     "end_time": "2022-11-04T22:21:22.552002",
     "exception": false,
     "start_time": "2022-11-04T22:21:22.545680",
     "status": "completed"
    },
    "tags": []
   },
   "source": [
    "# Importing Dataset #"
   ]
  },
  {
   "cell_type": "code",
   "execution_count": 2,
   "id": "b71f5f0f",
   "metadata": {
    "execution": {
     "iopub.execute_input": "2022-11-04T22:21:22.567120Z",
     "iopub.status.busy": "2022-11-04T22:21:22.566535Z",
     "iopub.status.idle": "2022-11-04T22:21:22.607044Z",
     "shell.execute_reply": "2022-11-04T22:21:22.606072Z"
    },
    "papermill": {
     "duration": 0.050284,
     "end_time": "2022-11-04T22:21:22.608989",
     "exception": false,
     "start_time": "2022-11-04T22:21:22.558705",
     "status": "completed"
    },
    "tags": []
   },
   "outputs": [
    {
     "data": {
      "text/html": [
       "<div>\n",
       "<style scoped>\n",
       "    .dataframe tbody tr th:only-of-type {\n",
       "        vertical-align: middle;\n",
       "    }\n",
       "\n",
       "    .dataframe tbody tr th {\n",
       "        vertical-align: top;\n",
       "    }\n",
       "\n",
       "    .dataframe thead th {\n",
       "        text-align: right;\n",
       "    }\n",
       "</style>\n",
       "<table border=\"1\" class=\"dataframe\">\n",
       "  <thead>\n",
       "    <tr style=\"text-align: right;\">\n",
       "      <th></th>\n",
       "      <th>age</th>\n",
       "      <th>sex</th>\n",
       "      <th>bmi</th>\n",
       "      <th>children</th>\n",
       "      <th>smoker</th>\n",
       "      <th>region</th>\n",
       "      <th>charges</th>\n",
       "    </tr>\n",
       "  </thead>\n",
       "  <tbody>\n",
       "    <tr>\n",
       "      <th>0</th>\n",
       "      <td>19</td>\n",
       "      <td>female</td>\n",
       "      <td>27.900</td>\n",
       "      <td>0</td>\n",
       "      <td>yes</td>\n",
       "      <td>southwest</td>\n",
       "      <td>16884.92400</td>\n",
       "    </tr>\n",
       "    <tr>\n",
       "      <th>1</th>\n",
       "      <td>18</td>\n",
       "      <td>male</td>\n",
       "      <td>33.770</td>\n",
       "      <td>1</td>\n",
       "      <td>no</td>\n",
       "      <td>southeast</td>\n",
       "      <td>1725.55230</td>\n",
       "    </tr>\n",
       "    <tr>\n",
       "      <th>2</th>\n",
       "      <td>28</td>\n",
       "      <td>male</td>\n",
       "      <td>33.000</td>\n",
       "      <td>3</td>\n",
       "      <td>no</td>\n",
       "      <td>southeast</td>\n",
       "      <td>4449.46200</td>\n",
       "    </tr>\n",
       "    <tr>\n",
       "      <th>3</th>\n",
       "      <td>33</td>\n",
       "      <td>male</td>\n",
       "      <td>22.705</td>\n",
       "      <td>0</td>\n",
       "      <td>no</td>\n",
       "      <td>northwest</td>\n",
       "      <td>21984.47061</td>\n",
       "    </tr>\n",
       "    <tr>\n",
       "      <th>4</th>\n",
       "      <td>32</td>\n",
       "      <td>male</td>\n",
       "      <td>28.880</td>\n",
       "      <td>0</td>\n",
       "      <td>no</td>\n",
       "      <td>northwest</td>\n",
       "      <td>3866.85520</td>\n",
       "    </tr>\n",
       "  </tbody>\n",
       "</table>\n",
       "</div>"
      ],
      "text/plain": [
       "   age     sex     bmi  children smoker     region      charges\n",
       "0   19  female  27.900         0    yes  southwest  16884.92400\n",
       "1   18    male  33.770         1     no  southeast   1725.55230\n",
       "2   28    male  33.000         3     no  southeast   4449.46200\n",
       "3   33    male  22.705         0     no  northwest  21984.47061\n",
       "4   32    male  28.880         0     no  northwest   3866.85520"
      ]
     },
     "execution_count": 2,
     "metadata": {},
     "output_type": "execute_result"
    }
   ],
   "source": [
    "data = pd.read_csv('../input/insurance/insurance.csv')\n",
    "data.head()"
   ]
  },
  {
   "cell_type": "code",
   "execution_count": 3,
   "id": "b9c113a5",
   "metadata": {
    "execution": {
     "iopub.execute_input": "2022-11-04T22:21:22.624486Z",
     "iopub.status.busy": "2022-11-04T22:21:22.624079Z",
     "iopub.status.idle": "2022-11-04T22:21:22.648379Z",
     "shell.execute_reply": "2022-11-04T22:21:22.647190Z"
    },
    "papermill": {
     "duration": 0.034626,
     "end_time": "2022-11-04T22:21:22.650533",
     "exception": false,
     "start_time": "2022-11-04T22:21:22.615907",
     "status": "completed"
    },
    "tags": []
   },
   "outputs": [
    {
     "name": "stdout",
     "output_type": "stream",
     "text": [
      "<class 'pandas.core.frame.DataFrame'>\n",
      "RangeIndex: 1338 entries, 0 to 1337\n",
      "Data columns (total 7 columns):\n",
      " #   Column    Non-Null Count  Dtype  \n",
      "---  ------    --------------  -----  \n",
      " 0   age       1338 non-null   int64  \n",
      " 1   sex       1338 non-null   object \n",
      " 2   bmi       1338 non-null   float64\n",
      " 3   children  1338 non-null   int64  \n",
      " 4   smoker    1338 non-null   object \n",
      " 5   region    1338 non-null   object \n",
      " 6   charges   1338 non-null   float64\n",
      "dtypes: float64(2), int64(2), object(3)\n",
      "memory usage: 73.3+ KB\n"
     ]
    }
   ],
   "source": [
    "data.info()"
   ]
  },
  {
   "cell_type": "code",
   "execution_count": 4,
   "id": "671d5792",
   "metadata": {
    "execution": {
     "iopub.execute_input": "2022-11-04T22:21:22.667105Z",
     "iopub.status.busy": "2022-11-04T22:21:22.666410Z",
     "iopub.status.idle": "2022-11-04T22:21:22.672986Z",
     "shell.execute_reply": "2022-11-04T22:21:22.672078Z"
    },
    "papermill": {
     "duration": 0.016374,
     "end_time": "2022-11-04T22:21:22.674889",
     "exception": false,
     "start_time": "2022-11-04T22:21:22.658515",
     "status": "completed"
    },
    "tags": []
   },
   "outputs": [],
   "source": [
    "features = data.drop('charges', axis=1)\n",
    "targets = data['charges']"
   ]
  },
  {
   "cell_type": "markdown",
   "id": "7f055bbf",
   "metadata": {
    "papermill": {
     "duration": 0.006804,
     "end_time": "2022-11-04T22:21:22.690064",
     "exception": false,
     "start_time": "2022-11-04T22:21:22.683260",
     "status": "completed"
    },
    "tags": []
   },
   "source": [
    "# Logistic Regression #"
   ]
  },
  {
   "cell_type": "markdown",
   "id": "f7feb3b0",
   "metadata": {
    "papermill": {
     "duration": 0.006729,
     "end_time": "2022-11-04T22:21:22.703811",
     "exception": false,
     "start_time": "2022-11-04T22:21:22.697082",
     "status": "completed"
    },
    "tags": []
   },
   "source": [
    "Auto select categorical data using **make_column_selector**"
   ]
  },
  {
   "cell_type": "code",
   "execution_count": 5,
   "id": "b3877c53",
   "metadata": {
    "execution": {
     "iopub.execute_input": "2022-11-04T22:21:22.719720Z",
     "iopub.status.busy": "2022-11-04T22:21:22.719120Z",
     "iopub.status.idle": "2022-11-04T22:21:23.589981Z",
     "shell.execute_reply": "2022-11-04T22:21:23.589121Z"
    },
    "papermill": {
     "duration": 0.881277,
     "end_time": "2022-11-04T22:21:23.592095",
     "exception": false,
     "start_time": "2022-11-04T22:21:22.710818",
     "status": "completed"
    },
    "tags": []
   },
   "outputs": [],
   "source": [
    "from sklearn.compose import make_column_selector as selector\n",
    "numerical_columns_selector = selector(dtype_exclude=object)\n",
    "categorical_columns_selector = selector(dtype_include=object) # Select string data types\n",
    "\n",
    "numerical_columns = numerical_columns_selector(features)\n",
    "categorical_columns = categorical_columns_selector(features)"
   ]
  },
  {
   "cell_type": "code",
   "execution_count": 6,
   "id": "98260a47",
   "metadata": {
    "execution": {
     "iopub.execute_input": "2022-11-04T22:21:23.607465Z",
     "iopub.status.busy": "2022-11-04T22:21:23.607139Z",
     "iopub.status.idle": "2022-11-04T22:21:23.612064Z",
     "shell.execute_reply": "2022-11-04T22:21:23.611468Z"
    },
    "papermill": {
     "duration": 0.014577,
     "end_time": "2022-11-04T22:21:23.613642",
     "exception": false,
     "start_time": "2022-11-04T22:21:23.599065",
     "status": "completed"
    },
    "tags": []
   },
   "outputs": [
    {
     "data": {
      "text/plain": [
       "['age', 'bmi', 'children']"
      ]
     },
     "execution_count": 6,
     "metadata": {},
     "output_type": "execute_result"
    }
   ],
   "source": [
    "numerical_columns"
   ]
  },
  {
   "cell_type": "code",
   "execution_count": 7,
   "id": "90dee8b5",
   "metadata": {
    "execution": {
     "iopub.execute_input": "2022-11-04T22:21:23.628877Z",
     "iopub.status.busy": "2022-11-04T22:21:23.628318Z",
     "iopub.status.idle": "2022-11-04T22:21:23.633498Z",
     "shell.execute_reply": "2022-11-04T22:21:23.632694Z"
    },
    "papermill": {
     "duration": 0.014854,
     "end_time": "2022-11-04T22:21:23.635322",
     "exception": false,
     "start_time": "2022-11-04T22:21:23.620468",
     "status": "completed"
    },
    "tags": []
   },
   "outputs": [
    {
     "data": {
      "text/plain": [
       "['sex', 'smoker', 'region']"
      ]
     },
     "execution_count": 7,
     "metadata": {},
     "output_type": "execute_result"
    }
   ],
   "source": [
    "categorical_columns"
   ]
  },
  {
   "cell_type": "code",
   "execution_count": 8,
   "id": "0fdf3698",
   "metadata": {
    "execution": {
     "iopub.execute_input": "2022-11-04T22:21:23.650533Z",
     "iopub.status.busy": "2022-11-04T22:21:23.650218Z",
     "iopub.status.idle": "2022-11-04T22:21:23.654522Z",
     "shell.execute_reply": "2022-11-04T22:21:23.653757Z"
    },
    "papermill": {
     "duration": 0.013689,
     "end_time": "2022-11-04T22:21:23.656090",
     "exception": false,
     "start_time": "2022-11-04T22:21:23.642401",
     "status": "completed"
    },
    "tags": []
   },
   "outputs": [],
   "source": [
    "from sklearn.preprocessing import OneHotEncoder, StandardScaler\n",
    "\n",
    "categorical_preprocessor = OneHotEncoder(handle_unknown=\"ignore\")\n",
    "numerical_preprocessor = StandardScaler()"
   ]
  },
  {
   "cell_type": "code",
   "execution_count": 9,
   "id": "417c7e2c",
   "metadata": {
    "execution": {
     "iopub.execute_input": "2022-11-04T22:21:23.671668Z",
     "iopub.status.busy": "2022-11-04T22:21:23.671310Z",
     "iopub.status.idle": "2022-11-04T22:21:23.676305Z",
     "shell.execute_reply": "2022-11-04T22:21:23.675228Z"
    },
    "papermill": {
     "duration": 0.014824,
     "end_time": "2022-11-04T22:21:23.678006",
     "exception": false,
     "start_time": "2022-11-04T22:21:23.663182",
     "status": "completed"
    },
    "tags": []
   },
   "outputs": [],
   "source": [
    "from sklearn.compose import ColumnTransformer\n",
    "\n",
    "preprocessor = ColumnTransformer([\n",
    "    ('one-hot-encoder', categorical_preprocessor, categorical_columns),\n",
    "    ('standard_scaler', numerical_preprocessor, numerical_columns)])"
   ]
  },
  {
   "cell_type": "code",
   "execution_count": 10,
   "id": "3a7dabfc",
   "metadata": {
    "execution": {
     "iopub.execute_input": "2022-11-04T22:21:23.693839Z",
     "iopub.status.busy": "2022-11-04T22:21:23.693250Z",
     "iopub.status.idle": "2022-11-04T22:21:23.808711Z",
     "shell.execute_reply": "2022-11-04T22:21:23.807925Z"
    },
    "papermill": {
     "duration": 0.125689,
     "end_time": "2022-11-04T22:21:23.810650",
     "exception": false,
     "start_time": "2022-11-04T22:21:23.684961",
     "status": "completed"
    },
    "tags": []
   },
   "outputs": [
    {
     "data": {
      "text/plain": [
       "Pipeline(steps=[('columntransformer',\n",
       "                 ColumnTransformer(transformers=[('one-hot-encoder',\n",
       "                                                  OneHotEncoder(handle_unknown='ignore'),\n",
       "                                                  ['sex', 'smoker', 'region']),\n",
       "                                                 ('standard_scaler',\n",
       "                                                  StandardScaler(),\n",
       "                                                  ['age', 'bmi',\n",
       "                                                   'children'])])),\n",
       "                ('logisticregression', LogisticRegression(max_iter=50))])"
      ]
     },
     "execution_count": 10,
     "metadata": {},
     "output_type": "execute_result"
    }
   ],
   "source": [
    "from sklearn.linear_model import LogisticRegression\n",
    "from sklearn.pipeline import make_pipeline\n",
    "\n",
    "model = make_pipeline(preprocessor, LogisticRegression(max_iter=50))\n",
    "model"
   ]
  },
  {
   "cell_type": "code",
   "execution_count": 11,
   "id": "912e2418",
   "metadata": {
    "execution": {
     "iopub.execute_input": "2022-11-04T22:21:23.826077Z",
     "iopub.status.busy": "2022-11-04T22:21:23.825747Z",
     "iopub.status.idle": "2022-11-04T22:21:23.830865Z",
     "shell.execute_reply": "2022-11-04T22:21:23.830026Z"
    },
    "papermill": {
     "duration": 0.01474,
     "end_time": "2022-11-04T22:21:23.832612",
     "exception": false,
     "start_time": "2022-11-04T22:21:23.817872",
     "status": "completed"
    },
    "tags": []
   },
   "outputs": [
    {
     "name": "stdout",
     "output_type": "stream",
     "text": [
      "multiclass\n"
     ]
    }
   ],
   "source": [
    "from sklearn.preprocessing import LabelEncoder\n",
    "from sklearn import utils\n",
    "\n",
    "encoded_targets = LabelEncoder().fit_transform(targets)\n",
    "print(utils.multiclass.type_of_target(encoded_targets))"
   ]
  },
  {
   "cell_type": "code",
   "execution_count": 12,
   "id": "d53137bc",
   "metadata": {
    "execution": {
     "iopub.execute_input": "2022-11-04T22:21:23.848952Z",
     "iopub.status.busy": "2022-11-04T22:21:23.848176Z",
     "iopub.status.idle": "2022-11-04T22:21:23.854183Z",
     "shell.execute_reply": "2022-11-04T22:21:23.853281Z"
    },
    "papermill": {
     "duration": 0.016251,
     "end_time": "2022-11-04T22:21:23.856122",
     "exception": false,
     "start_time": "2022-11-04T22:21:23.839871",
     "status": "completed"
    },
    "tags": []
   },
   "outputs": [],
   "source": [
    "from sklearn.model_selection import train_test_split\n",
    "\n",
    "data_train, data_test, target_train, target_test = train_test_split(features, encoded_targets, random_state=42)"
   ]
  },
  {
   "cell_type": "code",
   "execution_count": 13,
   "id": "443cc2a2",
   "metadata": {
    "execution": {
     "iopub.execute_input": "2022-11-04T22:21:23.872773Z",
     "iopub.status.busy": "2022-11-04T22:21:23.871940Z",
     "iopub.status.idle": "2022-11-04T22:21:26.102489Z",
     "shell.execute_reply": "2022-11-04T22:21:26.101715Z"
    },
    "papermill": {
     "duration": 2.241099,
     "end_time": "2022-11-04T22:21:26.104614",
     "exception": false,
     "start_time": "2022-11-04T22:21:23.863515",
     "status": "completed"
    },
    "tags": []
   },
   "outputs": [
    {
     "data": {
      "text/plain": [
       "Pipeline(steps=[('columntransformer',\n",
       "                 ColumnTransformer(transformers=[('one-hot-encoder',\n",
       "                                                  OneHotEncoder(handle_unknown='ignore'),\n",
       "                                                  ['sex', 'smoker', 'region']),\n",
       "                                                 ('standard_scaler',\n",
       "                                                  StandardScaler(),\n",
       "                                                  ['age', 'bmi',\n",
       "                                                   'children'])])),\n",
       "                ('logisticregression', LogisticRegression(max_iter=50))])"
      ]
     },
     "execution_count": 13,
     "metadata": {},
     "output_type": "execute_result"
    }
   ],
   "source": [
    "model.fit(data_train, target_train)"
   ]
  },
  {
   "cell_type": "code",
   "execution_count": 14,
   "id": "c8405ac1",
   "metadata": {
    "execution": {
     "iopub.execute_input": "2022-11-04T22:21:26.135658Z",
     "iopub.status.busy": "2022-11-04T22:21:26.135240Z",
     "iopub.status.idle": "2022-11-04T22:21:26.148126Z",
     "shell.execute_reply": "2022-11-04T22:21:26.147376Z"
    },
    "papermill": {
     "duration": 0.035108,
     "end_time": "2022-11-04T22:21:26.150028",
     "exception": false,
     "start_time": "2022-11-04T22:21:26.114920",
     "status": "completed"
    },
    "tags": []
   },
   "outputs": [
    {
     "data": {
      "text/html": [
       "<div>\n",
       "<style scoped>\n",
       "    .dataframe tbody tr th:only-of-type {\n",
       "        vertical-align: middle;\n",
       "    }\n",
       "\n",
       "    .dataframe tbody tr th {\n",
       "        vertical-align: top;\n",
       "    }\n",
       "\n",
       "    .dataframe thead th {\n",
       "        text-align: right;\n",
       "    }\n",
       "</style>\n",
       "<table border=\"1\" class=\"dataframe\">\n",
       "  <thead>\n",
       "    <tr style=\"text-align: right;\">\n",
       "      <th></th>\n",
       "      <th>age</th>\n",
       "      <th>sex</th>\n",
       "      <th>bmi</th>\n",
       "      <th>children</th>\n",
       "      <th>smoker</th>\n",
       "      <th>region</th>\n",
       "    </tr>\n",
       "  </thead>\n",
       "  <tbody>\n",
       "    <tr>\n",
       "      <th>764</th>\n",
       "      <td>45</td>\n",
       "      <td>female</td>\n",
       "      <td>25.175</td>\n",
       "      <td>2</td>\n",
       "      <td>no</td>\n",
       "      <td>northeast</td>\n",
       "    </tr>\n",
       "    <tr>\n",
       "      <th>887</th>\n",
       "      <td>36</td>\n",
       "      <td>female</td>\n",
       "      <td>30.020</td>\n",
       "      <td>0</td>\n",
       "      <td>no</td>\n",
       "      <td>northwest</td>\n",
       "    </tr>\n",
       "    <tr>\n",
       "      <th>890</th>\n",
       "      <td>64</td>\n",
       "      <td>female</td>\n",
       "      <td>26.885</td>\n",
       "      <td>0</td>\n",
       "      <td>yes</td>\n",
       "      <td>northwest</td>\n",
       "    </tr>\n",
       "    <tr>\n",
       "      <th>1293</th>\n",
       "      <td>46</td>\n",
       "      <td>male</td>\n",
       "      <td>25.745</td>\n",
       "      <td>3</td>\n",
       "      <td>no</td>\n",
       "      <td>northwest</td>\n",
       "    </tr>\n",
       "    <tr>\n",
       "      <th>259</th>\n",
       "      <td>19</td>\n",
       "      <td>male</td>\n",
       "      <td>31.920</td>\n",
       "      <td>0</td>\n",
       "      <td>yes</td>\n",
       "      <td>northwest</td>\n",
       "    </tr>\n",
       "  </tbody>\n",
       "</table>\n",
       "</div>"
      ],
      "text/plain": [
       "      age     sex     bmi  children smoker     region\n",
       "764    45  female  25.175         2     no  northeast\n",
       "887    36  female  30.020         0     no  northwest\n",
       "890    64  female  26.885         0    yes  northwest\n",
       "1293   46    male  25.745         3     no  northwest\n",
       "259    19    male  31.920         0    yes  northwest"
      ]
     },
     "execution_count": 14,
     "metadata": {},
     "output_type": "execute_result"
    }
   ],
   "source": [
    "data_test.head()"
   ]
  },
  {
   "cell_type": "code",
   "execution_count": 15,
   "id": "83cd329b",
   "metadata": {
    "execution": {
     "iopub.execute_input": "2022-11-04T22:21:26.186074Z",
     "iopub.status.busy": "2022-11-04T22:21:26.185659Z",
     "iopub.status.idle": "2022-11-04T22:21:26.203018Z",
     "shell.execute_reply": "2022-11-04T22:21:26.202207Z"
    },
    "papermill": {
     "duration": 0.041139,
     "end_time": "2022-11-04T22:21:26.205765",
     "exception": false,
     "start_time": "2022-11-04T22:21:26.164626",
     "status": "completed"
    },
    "tags": []
   },
   "outputs": [
    {
     "data": {
      "text/plain": [
       "array([ 905,  295, 1170,  809, 1216])"
      ]
     },
     "execution_count": 15,
     "metadata": {},
     "output_type": "execute_result"
    }
   ],
   "source": [
    "model.predict(data_test)[:5]"
   ]
  },
  {
   "cell_type": "code",
   "execution_count": 16,
   "id": "394277b1",
   "metadata": {
    "execution": {
     "iopub.execute_input": "2022-11-04T22:21:26.228526Z",
     "iopub.status.busy": "2022-11-04T22:21:26.228162Z",
     "iopub.status.idle": "2022-11-04T22:21:26.234369Z",
     "shell.execute_reply": "2022-11-04T22:21:26.233385Z"
    },
    "papermill": {
     "duration": 0.02431,
     "end_time": "2022-11-04T22:21:26.241064",
     "exception": false,
     "start_time": "2022-11-04T22:21:26.216754",
     "status": "completed"
    },
    "tags": []
   },
   "outputs": [
    {
     "data": {
      "text/plain": [
       "array([ 649,  380, 1173,  664, 1190])"
      ]
     },
     "execution_count": 16,
     "metadata": {},
     "output_type": "execute_result"
    }
   ],
   "source": [
    "target_test[:5]"
   ]
  },
  {
   "cell_type": "code",
   "execution_count": 17,
   "id": "03d04cf6",
   "metadata": {
    "execution": {
     "iopub.execute_input": "2022-11-04T22:21:26.266258Z",
     "iopub.status.busy": "2022-11-04T22:21:26.265885Z",
     "iopub.status.idle": "2022-11-04T22:21:26.284156Z",
     "shell.execute_reply": "2022-11-04T22:21:26.283320Z"
    },
    "papermill": {
     "duration": 0.035265,
     "end_time": "2022-11-04T22:21:26.286913",
     "exception": false,
     "start_time": "2022-11-04T22:21:26.251648",
     "status": "completed"
    },
    "tags": []
   },
   "outputs": [
    {
     "data": {
      "text/plain": [
       "227.96988541629005"
      ]
     },
     "execution_count": 17,
     "metadata": {},
     "output_type": "execute_result"
    }
   ],
   "source": [
    "from sklearn.metrics import mean_squared_error\n",
    "np.sqrt(mean_squared_error(model.predict(data_test), target_test))"
   ]
  },
  {
   "cell_type": "code",
   "execution_count": 18,
   "id": "c26fb6c6",
   "metadata": {
    "execution": {
     "iopub.execute_input": "2022-11-04T22:21:26.308585Z",
     "iopub.status.busy": "2022-11-04T22:21:26.308215Z",
     "iopub.status.idle": "2022-11-04T22:21:26.523711Z",
     "shell.execute_reply": "2022-11-04T22:21:26.522581Z"
    },
    "papermill": {
     "duration": 0.228639,
     "end_time": "2022-11-04T22:21:26.525674",
     "exception": false,
     "start_time": "2022-11-04T22:21:26.297035",
     "status": "completed"
    },
    "tags": []
   },
   "outputs": [
    {
     "data": {
      "image/png": "[encoded data removed]",
      "text/plain": [
       "<Figure size 720x720 with 1 Axes>"
      ]
     },
     "metadata": {
      "needs_background": "light"
     },
     "output_type": "display_data"
    }
   ],
   "source": [
    "import matplotlib.pyplot as plt\n",
    "plt.figure(figsize=(10,10))\n",
    "plt.scatter(model.predict(data_train), target_train)\n",
    "plt.show()"
   ]
  },
  {
   "cell_type": "markdown",
   "id": "3fa0380e",
   "metadata": {
    "papermill": {
     "duration": 0.008112,
     "end_time": "2022-11-04T22:21:26.542263",
     "exception": false,
     "start_time": "2022-11-04T22:21:26.534151",
     "status": "completed"
    },
    "tags": []
   },
   "source": [
    "# K-Nearest-Neighbours #"
   ]
  },
  {
   "cell_type": "code",
   "execution_count": 19,
   "id": "b05691e4",
   "metadata": {
    "execution": {
     "iopub.execute_input": "2022-11-04T22:21:26.560783Z",
     "iopub.status.busy": "2022-11-04T22:21:26.560355Z",
     "iopub.status.idle": "2022-11-04T22:21:26.575145Z",
     "shell.execute_reply": "2022-11-04T22:21:26.574238Z"
    },
    "papermill": {
     "duration": 0.027099,
     "end_time": "2022-11-04T22:21:26.577757",
     "exception": false,
     "start_time": "2022-11-04T22:21:26.550658",
     "status": "completed"
    },
    "tags": []
   },
   "outputs": [],
   "source": [
    "features_encoded = pd.get_dummies(features)\n",
    "data_train, data_test, target_train, target_test = train_test_split(features_encoded, targets, random_state=42)"
   ]
  },
  {
   "cell_type": "code",
   "execution_count": 20,
   "id": "6ad3b5a5",
   "metadata": {
    "execution": {
     "iopub.execute_input": "2022-11-04T22:21:26.597517Z",
     "iopub.status.busy": "2022-11-04T22:21:26.596400Z",
     "iopub.status.idle": "2022-11-04T22:21:26.651162Z",
     "shell.execute_reply": "2022-11-04T22:21:26.650280Z"
    },
    "papermill": {
     "duration": 0.067059,
     "end_time": "2022-11-04T22:21:26.653406",
     "exception": false,
     "start_time": "2022-11-04T22:21:26.586347",
     "status": "completed"
    },
    "tags": []
   },
   "outputs": [],
   "source": [
    "from sklearn.neighbors import KNeighborsRegressor\n",
    "knn_model= KNeighborsRegressor().fit(data_train, target_train)"
   ]
  },
  {
   "cell_type": "code",
   "execution_count": 21,
   "id": "23d8764f",
   "metadata": {
    "execution": {
     "iopub.execute_input": "2022-11-04T22:21:26.671889Z",
     "iopub.status.busy": "2022-11-04T22:21:26.671504Z",
     "iopub.status.idle": "2022-11-04T22:21:26.850800Z",
     "shell.execute_reply": "2022-11-04T22:21:26.849465Z"
    },
    "papermill": {
     "duration": 0.191155,
     "end_time": "2022-11-04T22:21:26.853092",
     "exception": false,
     "start_time": "2022-11-04T22:21:26.661937",
     "status": "completed"
    },
    "tags": []
   },
   "outputs": [
    {
     "name": "stdout",
     "output_type": "stream",
     "text": [
      "k= 1 RMSE value for 11739.181920953437\n",
      "k= 2 RMSE value for 10589.282876951656\n",
      "k= 3 RMSE value for 10267.186684858209\n",
      "k= 4 RMSE value for 9957.416048620786\n",
      "k= 5 RMSE value for 10219.359372844006\n",
      "k= 6 RMSE value for 10337.563257785961\n",
      "k= 7 RMSE value for 10391.365413003692\n",
      "k= 8 RMSE value for 10497.09990312264\n",
      "k= 9 RMSE value for 10521.843117311346\n",
      "k= 10 RMSE value for 10528.428724084315\n"
     ]
    },
    {
     "data": {
      "image/png": "[encoded data removed]",
      "text/plain": [
       "<Figure size 432x288 with 1 Axes>"
      ]
     },
     "metadata": {
      "needs_background": "light"
     },
     "output_type": "display_data"
    }
   ],
   "source": [
    "RMSE = []\n",
    "\n",
    "for k in range(10):\n",
    "    k = k+1\n",
    "    knn_model  = KNeighborsRegressor(n_neighbors= k).fit(data_train, target_train)\n",
    "    predictions  = knn_model.predict(data_test)\n",
    "    rmse=  np.sqrt(mean_squared_error(target_test,predictions))\n",
    "    RMSE.append(rmse)\n",
    "    print(\"k=\", k, \"RMSE value for\",rmse)\n",
    "\n",
    "plt.plot(RMSE)\n",
    "plt.show()"
   ]
  },
  {
   "cell_type": "markdown",
   "id": "2e12fb5e",
   "metadata": {
    "papermill": {
     "duration": 0.008064,
     "end_time": "2022-11-04T22:21:26.872381",
     "exception": false,
     "start_time": "2022-11-04T22:21:26.864317",
     "status": "completed"
    },
    "tags": []
   },
   "source": [
    "k = 3 is optimal value"
   ]
  },
  {
   "cell_type": "code",
   "execution_count": 22,
   "id": "6c29ccd4",
   "metadata": {
    "execution": {
     "iopub.execute_input": "2022-11-04T22:21:26.891003Z",
     "iopub.status.busy": "2022-11-04T22:21:26.890347Z",
     "iopub.status.idle": "2022-11-04T22:21:28.407053Z",
     "shell.execute_reply": "2022-11-04T22:21:28.405943Z"
    },
    "papermill": {
     "duration": 1.528227,
     "end_time": "2022-11-04T22:21:28.409048",
     "exception": false,
     "start_time": "2022-11-04T22:21:26.880821",
     "status": "completed"
    },
    "tags": []
   },
   "outputs": [
    {
     "data": {
      "text/plain": [
       "{'n_neighbors': 8}"
      ]
     },
     "execution_count": 22,
     "metadata": {},
     "output_type": "execute_result"
    }
   ],
   "source": [
    "#GridSearchCV\n",
    "from sklearn.model_selection import GridSearchCV\n",
    "knn_params= {\"n_neighbors\":np.arange(1,30,1)}\n",
    "knn = KNeighborsRegressor()\n",
    "knn_cv_model = GridSearchCV(knn,  knn_params, cv =10).fit(data_train, target_train)\n",
    "knn_cv_model.best_params_"
   ]
  },
  {
   "cell_type": "code",
   "execution_count": 23,
   "id": "0abcaea3",
   "metadata": {
    "execution": {
     "iopub.execute_input": "2022-11-04T22:21:28.429326Z",
     "iopub.status.busy": "2022-11-04T22:21:28.428892Z",
     "iopub.status.idle": "2022-11-04T22:21:28.442471Z",
     "shell.execute_reply": "2022-11-04T22:21:28.441480Z"
    },
    "papermill": {
     "duration": 0.026374,
     "end_time": "2022-11-04T22:21:28.444721",
     "exception": false,
     "start_time": "2022-11-04T22:21:28.418347",
     "status": "completed"
    },
    "tags": []
   },
   "outputs": [
    {
     "data": {
      "text/plain": [
       "10267.186684858209"
      ]
     },
     "execution_count": 23,
     "metadata": {},
     "output_type": "execute_result"
    }
   ],
   "source": [
    "#Final Model\n",
    "knn_tuned  = KNeighborsRegressor(n_neighbors=3).fit(data_train, target_train)\n",
    "predictions = knn_tuned.predict(data_test)\n",
    "np.sqrt(mean_squared_error(target_test,predictions))"
   ]
  },
  {
   "cell_type": "code",
   "execution_count": 24,
   "id": "2d9a430a",
   "metadata": {
    "execution": {
     "iopub.execute_input": "2022-11-04T22:21:28.465059Z",
     "iopub.status.busy": "2022-11-04T22:21:28.464721Z",
     "iopub.status.idle": "2022-11-04T22:21:28.631989Z",
     "shell.execute_reply": "2022-11-04T22:21:28.631183Z"
    },
    "papermill": {
     "duration": 0.17975,
     "end_time": "2022-11-04T22:21:28.633857",
     "exception": false,
     "start_time": "2022-11-04T22:21:28.454107",
     "status": "completed"
    },
    "tags": []
   },
   "outputs": [
    {
     "data": {
      "image/png": "[encoded data removed]",
      "text/plain": [
       "<Figure size 720x720 with 1 Axes>"
      ]
     },
     "metadata": {
      "needs_background": "light"
     },
     "output_type": "display_data"
    }
   ],
   "source": [
    "plt.figure(figsize=(10,10))\n",
    "plt.scatter(predictions, target_test)\n",
    "plt.show()"
   ]
  },
  {
   "cell_type": "markdown",
   "id": "acf0b81d",
   "metadata": {
    "papermill": {
     "duration": 0.008798,
     "end_time": "2022-11-04T22:21:28.651828",
     "exception": false,
     "start_time": "2022-11-04T22:21:28.643030",
     "status": "completed"
    },
    "tags": []
   },
   "source": [
    "# LightGBM #"
   ]
  },
  {
   "cell_type": "code",
   "execution_count": 25,
   "id": "44ff953a",
   "metadata": {
    "execution": {
     "iopub.execute_input": "2022-11-04T22:21:28.671239Z",
     "iopub.status.busy": "2022-11-04T22:21:28.670940Z",
     "iopub.status.idle": "2022-11-04T22:21:29.492296Z",
     "shell.execute_reply": "2022-11-04T22:21:29.491598Z"
    },
    "papermill": {
     "duration": 0.833539,
     "end_time": "2022-11-04T22:21:29.494393",
     "exception": false,
     "start_time": "2022-11-04T22:21:28.660854",
     "status": "completed"
    },
    "tags": []
   },
   "outputs": [
    {
     "data": {
      "text/html": [
       "<style type='text/css'>\n",
       ".datatable table.frame { margin-bottom: 0; }\n",
       ".datatable table.frame thead { border-bottom: none; }\n",
       ".datatable table.frame tr.coltypes td {  color: #FFFFFF;  line-height: 6px;  padding: 0 0.5em;}\n",
       ".datatable .bool    { background: #DDDD99; }\n",
       ".datatable .object  { background: #565656; }\n",
       ".datatable .int     { background: #5D9E5D; }\n",
       ".datatable .float   { background: #4040CC; }\n",
       ".datatable .str     { background: #CC4040; }\n",
       ".datatable .time    { background: #40CC40; }\n",
       ".datatable .row_index {  background: var(--jp-border-color3);  border-right: 1px solid var(--jp-border-color0);  color: var(--jp-ui-font-color3);  font-size: 9px;}\n",
       ".datatable .frame tbody td { text-align: left; }\n",
       ".datatable .frame tr.coltypes .row_index {  background: var(--jp-border-color0);}\n",
       ".datatable th:nth-child(2) { padding-left: 12px; }\n",
       ".datatable .hellipsis {  color: var(--jp-cell-editor-border-color);}\n",
       ".datatable .vellipsis {  background: var(--jp-layout-color0);  color: var(--jp-cell-editor-border-color);}\n",
       ".datatable .na {  color: var(--jp-cell-editor-border-color);  font-size: 80%;}\n",
       ".datatable .sp {  opacity: 0.25;}\n",
       ".datatable .footer { font-size: 9px; }\n",
       ".datatable .frame_dimensions {  background: var(--jp-border-color3);  border-top: 1px solid var(--jp-border-color0);  color: var(--jp-ui-font-color3);  display: inline-block;  opacity: 0.6;  padding: 1px 10px 1px 5px;}\n",
       "</style>\n"
      ],
      "text/plain": [
       "<IPython.core.display.HTML object>"
      ]
     },
     "metadata": {},
     "output_type": "display_data"
    },
    {
     "data": {
      "text/plain": [
       "4748.806640102819"
      ]
     },
     "execution_count": 25,
     "metadata": {},
     "output_type": "execute_result"
    }
   ],
   "source": [
    "from lightgbm import LGBMRegressor\n",
    "lgb_model = LGBMRegressor().fit(data_train, target_train)\n",
    "predictions   = lgb_model.predict(data_test)\n",
    "np.sqrt(mean_squared_error(target_test,predictions))"
   ]
  },
  {
   "cell_type": "markdown",
   "id": "90920f43",
   "metadata": {
    "papermill": {
     "duration": 0.008804,
     "end_time": "2022-11-04T22:21:29.512785",
     "exception": false,
     "start_time": "2022-11-04T22:21:29.503981",
     "status": "completed"
    },
    "tags": []
   },
   "source": [
    "# Conclusion #\n",
    "So far Logistic Regression has the least RMSE making it the best choice"
   ]
  },
  {
   "cell_type": "code",
   "execution_count": null,
   "id": "6f1b8d0e",
   "metadata": {
    "papermill": {
     "duration": 0.008847,
     "end_time": "2022-11-04T22:21:29.530718",
     "exception": false,
     "start_time": "2022-11-04T22:21:29.521871",
     "status": "completed"
    },
    "tags": []
   },
   "outputs": [],
   "source": []
  }
 ],
 "metadata": {
  "kernelspec": {
   "display_name": "Python 3",
   "language": "python",
   "name": "python3"
  },
  "language_info": {
   "codemirror_mode": {
    "name": "ipython",
    "version": 3
   },
   "file_extension": ".py",
   "mimetype": "text/x-python",
   "name": "python",
   "nbconvert_exporter": "python",
   "pygments_lexer": "ipython3",
   "version": "3.7.12"
  },
  "papermill": {
   "default_parameters": {},
   "duration": 14.669609,
   "end_time": "2022-11-04T22:21:30.259754",
   "environment_variables": {},
   "exception": null,
   "input_path": "__notebook__.ipynb",
   "output_path": "__notebook__.ipynb",
   "parameters": {},
   "start_time": "2022-11-04T22:21:15.590145",
   "version": "2.3.4"
  }
 },
 "nbformat": 4,
 "nbformat_minor": 5
}
