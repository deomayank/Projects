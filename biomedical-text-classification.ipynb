{
 "cells": [
  {
   "cell_type": "code",
   "execution_count": 1,
   "id": "d38f8352",
   "metadata": {
    "_cell_guid": "b1076dfc-b9ad-4769-8c92-a6c4dae69d19",
    "_uuid": "8f2839f25d086af736a60e9eeb907d3b93b6e0e5",
    "execution": {
     "iopub.execute_input": "2022-09-05T13:48:34.630354Z",
     "iopub.status.busy": "2022-09-05T13:48:34.629989Z",
     "iopub.status.idle": "2022-09-05T13:48:34.646989Z",
     "shell.execute_reply": "2022-09-05T13:48:34.645741Z"
    },
    "papermill": {
     "duration": 0.026271,
     "end_time": "2022-09-05T13:48:34.649105",
     "exception": false,
     "start_time": "2022-09-05T13:48:34.622834",
     "status": "completed"
    },
    "tags": []
   },
   "outputs": [
    {
     "name": "stdout",
     "output_type": "stream",
     "text": [
      "/kaggle/input/biomedical-text-publication-classification/alldata_1_for_kaggle.csv\n"
     ]
    }
   ],
   "source": [
    "# This Python 3 environment comes with many helpful analytics libraries installed\n",
    "# It is defined by the kaggle/python Docker image: https://github.com/kaggle/docker-python\n",
    "# For example, here's several helpful packages to load\n",
    "\n",
    "import numpy as np # linear algebra\n",
    "import pandas as pd # data processing, CSV file I/O (e.g. pd.read_csv)\n",
    "\n",
    "# Input data files are available in the read-only \"../input/\" directory\n",
    "# For example, running this (by clicking run or pressing Shift+Enter) will list all files under the input directory\n",
    "\n",
    "import os\n",
    "for dirname, _, filenames in os.walk('/kaggle/input'):\n",
    "    for filename in filenames:\n",
    "        print(os.path.join(dirname, filename))\n",
    "\n",
    "# You can write up to 20GB to the current directory (/kaggle/working/) that gets preserved as output when you create a version using \"Save & Run All\" \n",
    "# You can also write temporary files to /kaggle/temp/, but they won't be saved outside of the current session"
   ]
  },
  {
   "cell_type": "markdown",
   "id": "43c0d2dd",
   "metadata": {
    "papermill": {
     "duration": 0.004335,
     "end_time": "2022-09-05T13:48:34.658087",
     "exception": false,
     "start_time": "2022-09-05T13:48:34.653752",
     "status": "completed"
    },
    "tags": []
   },
   "source": [
    "Importing the data"
   ]
  },
  {
   "cell_type": "code",
   "execution_count": 2,
   "id": "7003c02c",
   "metadata": {
    "execution": {
     "iopub.execute_input": "2022-09-05T13:48:34.668715Z",
     "iopub.status.busy": "2022-09-05T13:48:34.668002Z",
     "iopub.status.idle": "2022-09-05T13:48:37.453339Z",
     "shell.execute_reply": "2022-09-05T13:48:37.452183Z"
    },
    "papermill": {
     "duration": 2.793327,
     "end_time": "2022-09-05T13:48:37.455909",
     "exception": false,
     "start_time": "2022-09-05T13:48:34.662582",
     "status": "completed"
    },
    "tags": []
   },
   "outputs": [
    {
     "data": {
      "text/html": [
       "<div>\n",
       "<style scoped>\n",
       "    .dataframe tbody tr th:only-of-type {\n",
       "        vertical-align: middle;\n",
       "    }\n",
       "\n",
       "    .dataframe tbody tr th {\n",
       "        vertical-align: top;\n",
       "    }\n",
       "\n",
       "    .dataframe thead th {\n",
       "        text-align: right;\n",
       "    }\n",
       "</style>\n",
       "<table border=\"1\" class=\"dataframe\">\n",
       "  <thead>\n",
       "    <tr style=\"text-align: right;\">\n",
       "      <th></th>\n",
       "      <th>Unnamed: 0</th>\n",
       "      <th>0</th>\n",
       "      <th>a</th>\n",
       "    </tr>\n",
       "  </thead>\n",
       "  <tbody>\n",
       "    <tr>\n",
       "      <th>0</th>\n",
       "      <td>0</td>\n",
       "      <td>Thyroid_Cancer</td>\n",
       "      <td>Thyroid surgery in  children in a single insti...</td>\n",
       "    </tr>\n",
       "    <tr>\n",
       "      <th>1</th>\n",
       "      <td>1</td>\n",
       "      <td>Thyroid_Cancer</td>\n",
       "      <td>\" The adopted strategy was the same as that us...</td>\n",
       "    </tr>\n",
       "    <tr>\n",
       "      <th>2</th>\n",
       "      <td>2</td>\n",
       "      <td>Thyroid_Cancer</td>\n",
       "      <td>coronary arterybypass grafting thrombosis ï¬b...</td>\n",
       "    </tr>\n",
       "    <tr>\n",
       "      <th>3</th>\n",
       "      <td>3</td>\n",
       "      <td>Thyroid_Cancer</td>\n",
       "      <td>Solitary plasmacytoma SP of the skull is an u...</td>\n",
       "    </tr>\n",
       "    <tr>\n",
       "      <th>4</th>\n",
       "      <td>4</td>\n",
       "      <td>Thyroid_Cancer</td>\n",
       "      <td>This study aimed to investigate serum matrix ...</td>\n",
       "    </tr>\n",
       "  </tbody>\n",
       "</table>\n",
       "</div>"
      ],
      "text/plain": [
       "   Unnamed: 0               0  \\\n",
       "0           0  Thyroid_Cancer   \n",
       "1           1  Thyroid_Cancer   \n",
       "2           2  Thyroid_Cancer   \n",
       "3           3  Thyroid_Cancer   \n",
       "4           4  Thyroid_Cancer   \n",
       "\n",
       "                                                   a  \n",
       "0  Thyroid surgery in  children in a single insti...  \n",
       "1  \" The adopted strategy was the same as that us...  \n",
       "2  coronary arterybypass grafting thrombosis ï¬b...  \n",
       "3   Solitary plasmacytoma SP of the skull is an u...  \n",
       "4   This study aimed to investigate serum matrix ...  "
      ]
     },
     "execution_count": 2,
     "metadata": {},
     "output_type": "execute_result"
    }
   ],
   "source": [
    "data = pd.read_csv('../input/biomedical-text-publication-classification/alldata_1_for_kaggle.csv', encoding='latin-1')\n",
    "data.head()"
   ]
  },
  {
   "cell_type": "code",
   "execution_count": 3,
   "id": "5f0981fe",
   "metadata": {
    "execution": {
     "iopub.execute_input": "2022-09-05T13:48:37.466454Z",
     "iopub.status.busy": "2022-09-05T13:48:37.466085Z",
     "iopub.status.idle": "2022-09-05T13:48:37.492825Z",
     "shell.execute_reply": "2022-09-05T13:48:37.491207Z"
    },
    "papermill": {
     "duration": 0.034144,
     "end_time": "2022-09-05T13:48:37.494892",
     "exception": false,
     "start_time": "2022-09-05T13:48:37.460748",
     "status": "completed"
    },
    "tags": []
   },
   "outputs": [
    {
     "name": "stdout",
     "output_type": "stream",
     "text": [
      "<class 'pandas.core.frame.DataFrame'>\n",
      "RangeIndex: 7570 entries, 0 to 7569\n",
      "Data columns (total 3 columns):\n",
      " #   Column      Non-Null Count  Dtype \n",
      "---  ------      --------------  ----- \n",
      " 0   Unnamed: 0  7570 non-null   int64 \n",
      " 1   0           7570 non-null   object\n",
      " 2   a           7570 non-null   object\n",
      "dtypes: int64(1), object(2)\n",
      "memory usage: 177.5+ KB\n"
     ]
    }
   ],
   "source": [
    "data.info()"
   ]
  },
  {
   "cell_type": "markdown",
   "id": "da593f07",
   "metadata": {
    "papermill": {
     "duration": 0.00446,
     "end_time": "2022-09-05T13:48:37.504204",
     "exception": false,
     "start_time": "2022-09-05T13:48:37.499744",
     "status": "completed"
    },
    "tags": []
   },
   "source": [
    "Removing the Unnamed column"
   ]
  },
  {
   "cell_type": "code",
   "execution_count": 4,
   "id": "95515617",
   "metadata": {
    "execution": {
     "iopub.execute_input": "2022-09-05T13:48:37.514814Z",
     "iopub.status.busy": "2022-09-05T13:48:37.514436Z",
     "iopub.status.idle": "2022-09-05T13:48:37.525201Z",
     "shell.execute_reply": "2022-09-05T13:48:37.524196Z"
    },
    "papermill": {
     "duration": 0.018183,
     "end_time": "2022-09-05T13:48:37.526921",
     "exception": false,
     "start_time": "2022-09-05T13:48:37.508738",
     "status": "completed"
    },
    "tags": []
   },
   "outputs": [
    {
     "data": {
      "text/html": [
       "<div>\n",
       "<style scoped>\n",
       "    .dataframe tbody tr th:only-of-type {\n",
       "        vertical-align: middle;\n",
       "    }\n",
       "\n",
       "    .dataframe tbody tr th {\n",
       "        vertical-align: top;\n",
       "    }\n",
       "\n",
       "    .dataframe thead th {\n",
       "        text-align: right;\n",
       "    }\n",
       "</style>\n",
       "<table border=\"1\" class=\"dataframe\">\n",
       "  <thead>\n",
       "    <tr style=\"text-align: right;\">\n",
       "      <th></th>\n",
       "      <th>0</th>\n",
       "      <th>a</th>\n",
       "    </tr>\n",
       "  </thead>\n",
       "  <tbody>\n",
       "    <tr>\n",
       "      <th>0</th>\n",
       "      <td>Thyroid_Cancer</td>\n",
       "      <td>Thyroid surgery in  children in a single insti...</td>\n",
       "    </tr>\n",
       "    <tr>\n",
       "      <th>1</th>\n",
       "      <td>Thyroid_Cancer</td>\n",
       "      <td>\" The adopted strategy was the same as that us...</td>\n",
       "    </tr>\n",
       "    <tr>\n",
       "      <th>2</th>\n",
       "      <td>Thyroid_Cancer</td>\n",
       "      <td>coronary arterybypass grafting thrombosis ï¬b...</td>\n",
       "    </tr>\n",
       "    <tr>\n",
       "      <th>3</th>\n",
       "      <td>Thyroid_Cancer</td>\n",
       "      <td>Solitary plasmacytoma SP of the skull is an u...</td>\n",
       "    </tr>\n",
       "    <tr>\n",
       "      <th>4</th>\n",
       "      <td>Thyroid_Cancer</td>\n",
       "      <td>This study aimed to investigate serum matrix ...</td>\n",
       "    </tr>\n",
       "  </tbody>\n",
       "</table>\n",
       "</div>"
      ],
      "text/plain": [
       "                0                                                  a\n",
       "0  Thyroid_Cancer  Thyroid surgery in  children in a single insti...\n",
       "1  Thyroid_Cancer  \" The adopted strategy was the same as that us...\n",
       "2  Thyroid_Cancer  coronary arterybypass grafting thrombosis ï¬b...\n",
       "3  Thyroid_Cancer   Solitary plasmacytoma SP of the skull is an u...\n",
       "4  Thyroid_Cancer   This study aimed to investigate serum matrix ..."
      ]
     },
     "execution_count": 4,
     "metadata": {},
     "output_type": "execute_result"
    }
   ],
   "source": [
    "data = data.drop('Unnamed: 0', axis=1)\n",
    "data.head()"
   ]
  },
  {
   "cell_type": "markdown",
   "id": "f2ab4990",
   "metadata": {
    "papermill": {
     "duration": 0.004673,
     "end_time": "2022-09-05T13:48:37.536696",
     "exception": false,
     "start_time": "2022-09-05T13:48:37.532023",
     "status": "completed"
    },
    "tags": []
   },
   "source": [
    "Renaming the columns"
   ]
  },
  {
   "cell_type": "code",
   "execution_count": 5,
   "id": "a66bce5c",
   "metadata": {
    "execution": {
     "iopub.execute_input": "2022-09-05T13:48:37.547690Z",
     "iopub.status.busy": "2022-09-05T13:48:37.547381Z",
     "iopub.status.idle": "2022-09-05T13:48:37.557054Z",
     "shell.execute_reply": "2022-09-05T13:48:37.555962Z"
    },
    "papermill": {
     "duration": 0.017971,
     "end_time": "2022-09-05T13:48:37.559505",
     "exception": false,
     "start_time": "2022-09-05T13:48:37.541534",
     "status": "completed"
    },
    "tags": []
   },
   "outputs": [
    {
     "data": {
      "text/html": [
       "<div>\n",
       "<style scoped>\n",
       "    .dataframe tbody tr th:only-of-type {\n",
       "        vertical-align: middle;\n",
       "    }\n",
       "\n",
       "    .dataframe tbody tr th {\n",
       "        vertical-align: top;\n",
       "    }\n",
       "\n",
       "    .dataframe thead th {\n",
       "        text-align: right;\n",
       "    }\n",
       "</style>\n",
       "<table border=\"1\" class=\"dataframe\">\n",
       "  <thead>\n",
       "    <tr style=\"text-align: right;\">\n",
       "      <th></th>\n",
       "      <th>Disease</th>\n",
       "      <th>Description</th>\n",
       "    </tr>\n",
       "  </thead>\n",
       "  <tbody>\n",
       "    <tr>\n",
       "      <th>0</th>\n",
       "      <td>Thyroid_Cancer</td>\n",
       "      <td>Thyroid surgery in  children in a single insti...</td>\n",
       "    </tr>\n",
       "    <tr>\n",
       "      <th>1</th>\n",
       "      <td>Thyroid_Cancer</td>\n",
       "      <td>\" The adopted strategy was the same as that us...</td>\n",
       "    </tr>\n",
       "    <tr>\n",
       "      <th>2</th>\n",
       "      <td>Thyroid_Cancer</td>\n",
       "      <td>coronary arterybypass grafting thrombosis ï¬b...</td>\n",
       "    </tr>\n",
       "    <tr>\n",
       "      <th>3</th>\n",
       "      <td>Thyroid_Cancer</td>\n",
       "      <td>Solitary plasmacytoma SP of the skull is an u...</td>\n",
       "    </tr>\n",
       "    <tr>\n",
       "      <th>4</th>\n",
       "      <td>Thyroid_Cancer</td>\n",
       "      <td>This study aimed to investigate serum matrix ...</td>\n",
       "    </tr>\n",
       "  </tbody>\n",
       "</table>\n",
       "</div>"
      ],
      "text/plain": [
       "          Disease                                        Description\n",
       "0  Thyroid_Cancer  Thyroid surgery in  children in a single insti...\n",
       "1  Thyroid_Cancer  \" The adopted strategy was the same as that us...\n",
       "2  Thyroid_Cancer  coronary arterybypass grafting thrombosis ï¬b...\n",
       "3  Thyroid_Cancer   Solitary plasmacytoma SP of the skull is an u...\n",
       "4  Thyroid_Cancer   This study aimed to investigate serum matrix ..."
      ]
     },
     "execution_count": 5,
     "metadata": {},
     "output_type": "execute_result"
    }
   ],
   "source": [
    "data.columns = ['Disease', 'Description']\n",
    "data.head()"
   ]
  },
  {
   "cell_type": "markdown",
   "id": "c36b5c89",
   "metadata": {
    "papermill": {
     "duration": 0.004825,
     "end_time": "2022-09-05T13:48:37.569552",
     "exception": false,
     "start_time": "2022-09-05T13:48:37.564727",
     "status": "completed"
    },
    "tags": []
   },
   "source": [
    "Plotting the data"
   ]
  },
  {
   "cell_type": "code",
   "execution_count": 6,
   "id": "7e9d8f5b",
   "metadata": {
    "execution": {
     "iopub.execute_input": "2022-09-05T13:48:37.582317Z",
     "iopub.status.busy": "2022-09-05T13:48:37.580864Z",
     "iopub.status.idle": "2022-09-05T13:48:38.637106Z",
     "shell.execute_reply": "2022-09-05T13:48:38.636406Z"
    },
    "papermill": {
     "duration": 1.064188,
     "end_time": "2022-09-05T13:48:38.639017",
     "exception": false,
     "start_time": "2022-09-05T13:48:37.574829",
     "status": "completed"
    },
    "tags": []
   },
   "outputs": [
    {
     "data": {
      "image/png": "[encoded data removed]",
      "text/plain": [
       "<Figure size 432x288 with 1 Axes>"
      ]
     },
     "metadata": {},
     "output_type": "display_data"
    }
   ],
   "source": [
    "import matplotlib.pyplot as plt\n",
    "import seaborn as sns\n",
    "sns.set()\n",
    "x=(data.Disease.value_counts())\n",
    "p = sns.countplot(data=data, x='Disease')\n",
    "plt.show()"
   ]
  },
  {
   "cell_type": "markdown",
   "id": "501b411c",
   "metadata": {
    "papermill": {
     "duration": 0.006721,
     "end_time": "2022-09-05T13:48:38.652684",
     "exception": false,
     "start_time": "2022-09-05T13:48:38.645963",
     "status": "completed"
    },
    "tags": []
   },
   "source": [
    "Installing nltk"
   ]
  },
  {
   "cell_type": "code",
   "execution_count": 7,
   "id": "edf5facc",
   "metadata": {
    "execution": {
     "iopub.execute_input": "2022-09-05T13:48:38.668626Z",
     "iopub.status.busy": "2022-09-05T13:48:38.667973Z",
     "iopub.status.idle": "2022-09-05T13:48:48.633379Z",
     "shell.execute_reply": "2022-09-05T13:48:48.632030Z"
    },
    "papermill": {
     "duration": 9.976071,
     "end_time": "2022-09-05T13:48:48.635734",
     "exception": false,
     "start_time": "2022-09-05T13:48:38.659663",
     "status": "completed"
    },
    "tags": []
   },
   "outputs": [
    {
     "name": "stdout",
     "output_type": "stream",
     "text": [
      "Requirement already satisfied: nltk in /opt/conda/lib/python3.7/site-packages (3.7)\r\n",
      "Requirement already satisfied: click in /opt/conda/lib/python3.7/site-packages (from nltk) (8.0.4)\r\n",
      "Requirement already satisfied: tqdm in /opt/conda/lib/python3.7/site-packages (from nltk) (4.64.0)\r\n",
      "Requirement already satisfied: joblib in /opt/conda/lib/python3.7/site-packages (from nltk) (1.0.1)\r\n",
      "Requirement already satisfied: regex>=2021.8.3 in /opt/conda/lib/python3.7/site-packages (from nltk) (2021.11.10)\r\n",
      "Requirement already satisfied: importlib-metadata in /opt/conda/lib/python3.7/site-packages (from click->nltk) (4.12.0)\r\n",
      "Requirement already satisfied: typing-extensions>=3.6.4 in /opt/conda/lib/python3.7/site-packages (from importlib-metadata->click->nltk) (4.3.0)\r\n",
      "Requirement already satisfied: zipp>=0.5 in /opt/conda/lib/python3.7/site-packages (from importlib-metadata->click->nltk) (3.8.0)\r\n",
      "\u001b[33mWARNING: Running pip as the 'root' user can result in broken permissions and conflicting behaviour with the system package manager. It is recommended to use a virtual environment instead: https://pip.pypa.io/warnings/venv\u001b[0m\u001b[33m\r\n",
      "\u001b[0m"
     ]
    }
   ],
   "source": [
    "!pip install nltk"
   ]
  },
  {
   "cell_type": "markdown",
   "id": "2c28453f",
   "metadata": {
    "papermill": {
     "duration": 0.005671,
     "end_time": "2022-09-05T13:48:48.646889",
     "exception": false,
     "start_time": "2022-09-05T13:48:48.641218",
     "status": "completed"
    },
    "tags": []
   },
   "source": [
    "Cleaning data"
   ]
  },
  {
   "cell_type": "code",
   "execution_count": 8,
   "id": "9007e2f0",
   "metadata": {
    "execution": {
     "iopub.execute_input": "2022-09-05T13:48:48.659757Z",
     "iopub.status.busy": "2022-09-05T13:48:48.659413Z",
     "iopub.status.idle": "2022-09-05T13:48:49.639410Z",
     "shell.execute_reply": "2022-09-05T13:48:49.638367Z"
    },
    "papermill": {
     "duration": 0.989077,
     "end_time": "2022-09-05T13:48:49.641519",
     "exception": false,
     "start_time": "2022-09-05T13:48:48.652442",
     "status": "completed"
    },
    "tags": []
   },
   "outputs": [
    {
     "name": "stderr",
     "output_type": "stream",
     "text": [
      "[nltk_data] Downloading package omw-1.4 to /usr/share/nltk_data...\n",
      "[nltk_data] Downloading package stopwords to /usr/share/nltk_data...\n",
      "[nltk_data]   Package stopwords is already up-to-date!\n"
     ]
    }
   ],
   "source": [
    "import re\n",
    "import nltk\n",
    "nltk.download('omw-1.4')\n",
    "from nltk.corpus import stopwords\n",
    "nltk.download('stopwords')\n",
    "from nltk.stem import WordNetLemmatizer\n",
    "  \n",
    "def clean_data(text):\n",
    "    text = text.lower()\n",
    "    pattern = '[^a-z\\s]'\n",
    "    text = re.sub(pattern, '', text)\n",
    "    text = text.split()\n",
    "    lemmatizer = WordNetLemmatizer()\n",
    "    clean_text = []\n",
    "    for i in text:\n",
    "        word = lemmatizer.lemmatize(i)\n",
    "        if word not in stopwords.words('english'):\n",
    "            clean_text.append(word)\n",
    "    clean_text = ' '.join(clean_text)\n",
    "    return clean_text"
   ]
  },
  {
   "cell_type": "code",
   "execution_count": 9,
   "id": "a8596a75",
   "metadata": {
    "execution": {
     "iopub.execute_input": "2022-09-05T13:48:49.655542Z",
     "iopub.status.busy": "2022-09-05T13:48:49.655231Z",
     "iopub.status.idle": "2022-09-05T14:36:51.863019Z",
     "shell.execute_reply": "2022-09-05T14:36:51.862367Z"
    },
    "papermill": {
     "duration": 2882.217012,
     "end_time": "2022-09-05T14:36:51.865034",
     "exception": false,
     "start_time": "2022-09-05T13:48:49.648022",
     "status": "completed"
    },
    "tags": []
   },
   "outputs": [],
   "source": [
    "data['Clean_Description'] = data.Description.apply(clean_data)"
   ]
  },
  {
   "cell_type": "code",
   "execution_count": 10,
   "id": "3e1f93b8",
   "metadata": {
    "execution": {
     "iopub.execute_input": "2022-09-05T14:36:51.879229Z",
     "iopub.status.busy": "2022-09-05T14:36:51.877937Z",
     "iopub.status.idle": "2022-09-05T14:36:51.889478Z",
     "shell.execute_reply": "2022-09-05T14:36:51.888585Z"
    },
    "papermill": {
     "duration": 0.020801,
     "end_time": "2022-09-05T14:36:51.891778",
     "exception": false,
     "start_time": "2022-09-05T14:36:51.870977",
     "status": "completed"
    },
    "tags": []
   },
   "outputs": [
    {
     "data": {
      "text/html": [
       "<div>\n",
       "<style scoped>\n",
       "    .dataframe tbody tr th:only-of-type {\n",
       "        vertical-align: middle;\n",
       "    }\n",
       "\n",
       "    .dataframe tbody tr th {\n",
       "        vertical-align: top;\n",
       "    }\n",
       "\n",
       "    .dataframe thead th {\n",
       "        text-align: right;\n",
       "    }\n",
       "</style>\n",
       "<table border=\"1\" class=\"dataframe\">\n",
       "  <thead>\n",
       "    <tr style=\"text-align: right;\">\n",
       "      <th></th>\n",
       "      <th>Disease</th>\n",
       "      <th>Description</th>\n",
       "      <th>Clean_Description</th>\n",
       "    </tr>\n",
       "  </thead>\n",
       "  <tbody>\n",
       "    <tr>\n",
       "      <th>0</th>\n",
       "      <td>Thyroid_Cancer</td>\n",
       "      <td>Thyroid surgery in  children in a single insti...</td>\n",
       "      <td>thyroid surgery child single institution osama...</td>\n",
       "    </tr>\n",
       "    <tr>\n",
       "      <th>1</th>\n",
       "      <td>Thyroid_Cancer</td>\n",
       "      <td>\" The adopted strategy was the same as that us...</td>\n",
       "      <td>adopted strategy wa used prior year based four...</td>\n",
       "    </tr>\n",
       "    <tr>\n",
       "      <th>2</th>\n",
       "      <td>Thyroid_Cancer</td>\n",
       "      <td>coronary arterybypass grafting thrombosis ï¬b...</td>\n",
       "      <td>coronary arterybypass grafting thrombosis brin...</td>\n",
       "    </tr>\n",
       "    <tr>\n",
       "      <th>3</th>\n",
       "      <td>Thyroid_Cancer</td>\n",
       "      <td>Solitary plasmacytoma SP of the skull is an u...</td>\n",
       "      <td>solitary plasmacytoma sp skull uncommon clinic...</td>\n",
       "    </tr>\n",
       "    <tr>\n",
       "      <th>4</th>\n",
       "      <td>Thyroid_Cancer</td>\n",
       "      <td>This study aimed to investigate serum matrix ...</td>\n",
       "      <td>study aimed investigate serum matrix metallopr...</td>\n",
       "    </tr>\n",
       "  </tbody>\n",
       "</table>\n",
       "</div>"
      ],
      "text/plain": [
       "          Disease                                        Description  \\\n",
       "0  Thyroid_Cancer  Thyroid surgery in  children in a single insti...   \n",
       "1  Thyroid_Cancer  \" The adopted strategy was the same as that us...   \n",
       "2  Thyroid_Cancer  coronary arterybypass grafting thrombosis ï¬b...   \n",
       "3  Thyroid_Cancer   Solitary plasmacytoma SP of the skull is an u...   \n",
       "4  Thyroid_Cancer   This study aimed to investigate serum matrix ...   \n",
       "\n",
       "                                   Clean_Description  \n",
       "0  thyroid surgery child single institution osama...  \n",
       "1  adopted strategy wa used prior year based four...  \n",
       "2  coronary arterybypass grafting thrombosis brin...  \n",
       "3  solitary plasmacytoma sp skull uncommon clinic...  \n",
       "4  study aimed investigate serum matrix metallopr...  "
      ]
     },
     "execution_count": 10,
     "metadata": {},
     "output_type": "execute_result"
    }
   ],
   "source": [
    "data.head()"
   ]
  },
  {
   "cell_type": "markdown",
   "id": "28c4c9a6",
   "metadata": {
    "papermill": {
     "duration": 0.005684,
     "end_time": "2022-09-05T14:36:51.903273",
     "exception": false,
     "start_time": "2022-09-05T14:36:51.897589",
     "status": "completed"
    },
    "tags": []
   },
   "source": [
    "Splitting the data"
   ]
  },
  {
   "cell_type": "code",
   "execution_count": 11,
   "id": "f86d8380",
   "metadata": {
    "execution": {
     "iopub.execute_input": "2022-09-05T14:36:51.917422Z",
     "iopub.status.busy": "2022-09-05T14:36:51.917052Z",
     "iopub.status.idle": "2022-09-05T14:36:51.925065Z",
     "shell.execute_reply": "2022-09-05T14:36:51.923862Z"
    },
    "papermill": {
     "duration": 0.017031,
     "end_time": "2022-09-05T14:36:51.926886",
     "exception": false,
     "start_time": "2022-09-05T14:36:51.909855",
     "status": "completed"
    },
    "tags": []
   },
   "outputs": [
    {
     "name": "stdout",
     "output_type": "stream",
     "text": [
      "(7570,)\n",
      "(7570,)\n"
     ]
    }
   ],
   "source": [
    "from sklearn.model_selection import train_test_split\n",
    "\n",
    "X = data.Clean_Description\n",
    "y = data.Disease\n",
    "X_train, X_test, y_train, y_test = train_test_split(X, y, test_size = 0.2, random_state = 100)\n",
    "print(X.shape)\n",
    "print(y.shape)"
   ]
  },
  {
   "cell_type": "markdown",
   "id": "e4d86836",
   "metadata": {
    "papermill": {
     "duration": 0.00537,
     "end_time": "2022-09-05T14:36:51.937977",
     "exception": false,
     "start_time": "2022-09-05T14:36:51.932607",
     "status": "completed"
    },
    "tags": []
   },
   "source": [
    "Tfidf Vectorization"
   ]
  },
  {
   "cell_type": "code",
   "execution_count": 12,
   "id": "add45387",
   "metadata": {
    "execution": {
     "iopub.execute_input": "2022-09-05T14:36:51.951072Z",
     "iopub.status.busy": "2022-09-05T14:36:51.950544Z",
     "iopub.status.idle": "2022-09-05T14:37:04.521950Z",
     "shell.execute_reply": "2022-09-05T14:37:04.521325Z"
    },
    "papermill": {
     "duration": 12.579881,
     "end_time": "2022-09-05T14:37:04.523624",
     "exception": false,
     "start_time": "2022-09-05T14:36:51.943743",
     "status": "completed"
    },
    "tags": []
   },
   "outputs": [
    {
     "name": "stdout",
     "output_type": "stream",
     "text": [
      "(6056, 174235)\n",
      "(1514, 174235)\n"
     ]
    }
   ],
   "source": [
    "from sklearn.feature_extraction.text import TfidfVectorizer\n",
    "\n",
    "vectorizer = TfidfVectorizer()\n",
    "X_train_vectorized = vectorizer.fit_transform(X_train)\n",
    "X_test_transformed = vectorizer.transform(X_test)\n",
    "print(X_train_vectorized.shape)\n",
    "print(X_test_transformed.shape)"
   ]
  },
  {
   "cell_type": "markdown",
   "id": "124488d2",
   "metadata": {
    "papermill": {
     "duration": 0.00588,
     "end_time": "2022-09-05T14:37:04.535490",
     "exception": false,
     "start_time": "2022-09-05T14:37:04.529610",
     "status": "completed"
    },
    "tags": []
   },
   "source": [
    "Logistic Regression"
   ]
  },
  {
   "cell_type": "code",
   "execution_count": 13,
   "id": "f5c0158a",
   "metadata": {
    "execution": {
     "iopub.execute_input": "2022-09-05T14:37:04.549813Z",
     "iopub.status.busy": "2022-09-05T14:37:04.549231Z",
     "iopub.status.idle": "2022-09-05T14:37:18.526566Z",
     "shell.execute_reply": "2022-09-05T14:37:18.525805Z"
    },
    "papermill": {
     "duration": 13.986604,
     "end_time": "2022-09-05T14:37:18.528787",
     "exception": false,
     "start_time": "2022-09-05T14:37:04.542183",
     "status": "completed"
    },
    "tags": []
   },
   "outputs": [
    {
     "name": "stdout",
     "output_type": "stream",
     "text": [
      "Confusion Matrix : \n",
      " [[442   0  69]\n",
      " [  0 474   0]\n",
      " [ 40   0 489]]\n",
      "Accuracy :  92.8005284015852 %\n",
      "Precision 0.9311188447180951\n",
      "Recall 0.929785426354295\n"
     ]
    }
   ],
   "source": [
    "from sklearn.linear_model import LogisticRegression\n",
    "from sklearn.metrics import accuracy_score, precision_score, recall_score, confusion_matrix\n",
    "\n",
    "model = LogisticRegression()\n",
    "model.fit(X_train_vectorized, y_train)\n",
    "prediction = model.predict(X_test_transformed)\n",
    "conf = confusion_matrix(y_test, prediction)\n",
    "print(\"Confusion Matrix : \\n\", conf)\n",
    "print(\"Accuracy : \", accuracy_score(y_test, prediction)*100, \"%\")\n",
    "print('Precision', precision_score(y_test, prediction, average='macro'))\n",
    "print('Recall', recall_score(y_test, prediction, average='macro'))"
   ]
  },
  {
   "cell_type": "code",
   "execution_count": null,
   "id": "55115f95",
   "metadata": {
    "papermill": {
     "duration": 0.008848,
     "end_time": "2022-09-05T14:37:18.546190",
     "exception": false,
     "start_time": "2022-09-05T14:37:18.537342",
     "status": "completed"
    },
    "tags": []
   },
   "outputs": [],
   "source": []
  }
 ],
 "metadata": {
  "kernelspec": {
   "display_name": "Python 3",
   "language": "python",
   "name": "python3"
  },
  "language_info": {
   "codemirror_mode": {
    "name": "ipython",
    "version": 3
   },
   "file_extension": ".py",
   "mimetype": "text/x-python",
   "name": "python",
   "nbconvert_exporter": "python",
   "pygments_lexer": "ipython3",
   "version": "3.7.12"
  },
  "papermill": {
   "default_parameters": {},
   "duration": 2932.160137,
   "end_time": "2022-09-05T14:37:19.482299",
   "environment_variables": {},
   "exception": null,
   "input_path": "__notebook__.ipynb",
   "output_path": "__notebook__.ipynb",
   "parameters": {},
   "start_time": "2022-09-05T13:48:27.322162",
   "version": "2.3.4"
  }
 },
 "nbformat": 4,
 "nbformat_minor": 5
}
